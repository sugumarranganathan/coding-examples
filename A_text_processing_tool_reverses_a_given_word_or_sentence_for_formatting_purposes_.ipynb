{
  "nbformat": 4,
  "nbformat_minor": 0,
  "metadata": {
    "colab": {
      "provenance": []
    },
    "kernelspec": {
      "name": "python3",
      "display_name": "Python 3"
    },
    "language_info": {
      "name": "python"
    }
  },
  "cells": [
    {
      "cell_type": "code",
      "execution_count": 3,
      "metadata": {
        "colab": {
          "base_uri": "https://localhost:8080/"
        },
        "id": "w7Iod5re_r7I",
        "outputId": "edfd0248-1b64-4663-c6b2-de12acd70332"
      },
      "outputs": [
        {
          "output_type": "stream",
          "name": "stdout",
          "text": [
            "Enter a word or sentence to reverse: manimaran\n",
            "Original: manimaran\n",
            "Reversed: naraminam\n"
          ]
        }
      ],
      "source": [
        "def reverse_string(input_text):\n",
        "    \"\"\"\n",
        "    Function to reverse a word or sentence\n",
        "    \"\"\"\n",
        "    # Step 1: Read the input (already provided as parameter)\n",
        "\n",
        "    # Step 2: Convert input into a list of characters\n",
        "    char_list = list(input_text)\n",
        "    # Step 3: Reverse the order of characters\n",
        "    char_list.reverse()\n",
        "    # Step 4: Join the reversed characters into a string\n",
        "    reversed_text = ''.join(char_list)\n",
        "    # Step 5: Return the reversed word or sentence\n",
        "\n",
        "    return reversed_text\n",
        "if __name__ == \"__main__\":\n",
        "    user_input = input(\"Enter a word or sentence to reverse: \")\n",
        "    result = reverse_string(user_input)\n",
        "    print(f\"Original: {user_input}\")\n",
        "    print(f\"Reversed: {result}\")\n"
      ]
    }
  ]
}
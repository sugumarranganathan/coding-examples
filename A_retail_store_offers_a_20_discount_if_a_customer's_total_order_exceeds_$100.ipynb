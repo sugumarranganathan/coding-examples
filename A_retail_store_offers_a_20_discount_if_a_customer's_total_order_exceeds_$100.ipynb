{
  "nbformat": 4,
  "nbformat_minor": 0,
  "metadata": {
    "colab": {
      "provenance": []
    },
    "kernelspec": {
      "name": "python3",
      "display_name": "Python 3"
    },
    "language_info": {
      "name": "python"
    }
  },
  "cells": [
    {
      "cell_type": "code",
      "execution_count": 6,
      "metadata": {
        "colab": {
          "base_uri": "https://localhost:8080/"
        },
        "id": "-77jmr3oF4ho",
        "outputId": "fda3cec5-6150-47b6-8f45-47770f46c7f2"
      },
      "outputs": [
        {
          "output_type": "stream",
          "name": "stdout",
          "text": [
            "Original amount: $200\n",
            "Final amount after discount: $160.0\n"
          ]
        }
      ],
      "source": [
        "# 1. Read the total order amount.\n",
        "# 2. If the amount is more than $100, calculate a 20% discount.\n",
        "# 3. Subtract the discount from the total amount.\n",
        "# 4. Return the final amount to be paid.\n",
        "\n",
        "def calculate_final_amount(order_amount):\n",
        "    \"\"\"\n",
        "    Calculate the final amount to be paid after applying discount.\n",
        "\n",
        "    Args:\n",
        "        order_amount (float): The total order amount\n",
        "\n",
        "    Returns:\n",
        "        float: The final amount after discount (if applicable)\n",
        "    \"\"\"\n",
        "    if order_amount > 100:\n",
        "        discount = order_amount * 0.20  # 20% discount\n",
        "    else:\n",
        "        discount = 0\n",
        "    final_amount = order_amount - discount\n",
        "    return final_amount\n",
        "order_amount = 200\n",
        "final_amount = calculate_final_amount(order_amount)\n",
        "print(f\"Original amount: ${order_amount}\")\n",
        "print(f\"Final amount after discount: ${final_amount}\")\n"
      ]
    }
  ]
}
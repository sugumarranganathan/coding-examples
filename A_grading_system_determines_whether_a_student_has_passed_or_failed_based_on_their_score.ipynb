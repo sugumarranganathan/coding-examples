{
  "nbformat": 4,
  "nbformat_minor": 0,
  "metadata": {
    "colab": {
      "provenance": []
    },
    "kernelspec": {
      "name": "python3",
      "display_name": "Python 3"
    },
    "language_info": {
      "name": "python"
    }
  },
  "cells": [
    {
      "cell_type": "code",
      "source": [
        "# 1. Read the student's marks.\n",
        "# 2. If the marks are 40 or above, print \"Pass.\"\n",
        "# 3. Otherwise, print \"Fail.\"\n",
        "\n",
        "\n",
        "marks = int(input(\"Enter the student's marks: \"))\n",
        "if marks >= 40:\n",
        "    print(\"Pass\")\n",
        "else:\n",
        "    print(\"Fail\")"
      ],
      "metadata": {
        "colab": {
          "base_uri": "https://localhost:8080/"
        },
        "id": "6gKUZEo5EO8v",
        "outputId": "c7aa9773-8e73-4e8f-bc53-373cb76248fd"
      },
      "execution_count": 2,
      "outputs": [
        {
          "output_type": "stream",
          "name": "stdout",
          "text": [
            "Enter the student's marks: 79\n",
            "Pass\n"
          ]
        }
      ]
    },
    {
      "cell_type": "code",
      "execution_count": null,
      "metadata": {
        "id": "1zquhbgXEL7B"
      },
      "outputs": [],
      "source": []
    }
  ]
}
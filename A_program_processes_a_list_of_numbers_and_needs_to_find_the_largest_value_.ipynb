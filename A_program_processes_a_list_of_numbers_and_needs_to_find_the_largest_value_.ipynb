{
  "nbformat": 4,
  "nbformat_minor": 0,
  "metadata": {
    "colab": {
      "provenance": []
    },
    "kernelspec": {
      "name": "python3",
      "display_name": "Python 3"
    },
    "language_info": {
      "name": "python"
    }
  },
  "cells": [
    {
      "cell_type": "code",
      "execution_count": 6,
      "metadata": {
        "colab": {
          "base_uri": "https://localhost:8080/"
        },
        "id": "t-AQRnv0zWdh",
        "outputId": "a77bd93c-33b0-48e0-a46d-cdc47f0b8a8d"
      },
      "outputs": [
        {
          "output_type": "stream",
          "name": "stdout",
          "text": [
            "The largest number is: 12\n"
          ]
        }
      ],
      "source": [
        " # 1. Read the list of numbers.\n",
        " # 2. Assume the first number is the largest.\n",
        " # 3. Iterate through the list, comparing each number with the current largest value.\n",
        " # 4. If a larger number is found, update the largest value.\n",
        " # 5. Return the largest number.\n",
        "\n",
        "\n",
        "def find_largest(numbers):\n",
        "    if not numbers:\n",
        "        return None\n",
        "    largest = numbers[0]\n",
        "\n",
        "    for i in range(1, len(numbers)):\n",
        "        if numbers[i] > largest:\n",
        "            largest = numbers[i]\n",
        "    return largest\n",
        "number_list = [3, 7, 2, 12, 1, 5, 8]\n",
        "result = find_largest(number_list)\n",
        "print(f\"The largest number is: {result}\")"
      ]
    }
  ]
}
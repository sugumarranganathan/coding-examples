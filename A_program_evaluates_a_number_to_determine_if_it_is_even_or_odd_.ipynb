{
  "nbformat": 4,
  "nbformat_minor": 0,
  "metadata": {
    "colab": {
      "provenance": []
    },
    "kernelspec": {
      "name": "python3",
      "display_name": "Python 3"
    },
    "language_info": {
      "name": "python"
    }
  },
  "cells": [
    {
      "cell_type": "code",
      "source": [
        "# 1. Read the input number.\n",
        "# 2. Check if the number is divisible by 2.\n",
        "# 3. If yes, print \"Even.\"\n",
        "# 4. Otherwise, print \"Odd.\"\n",
        "\n",
        "\n",
        "num=int(input(\"Enter the number:\"))\n",
        "if(num%2)==0:\n",
        "  print(\"Even number\")\n",
        "else:\n",
        "  print(\"odd number\")\n",
        "\n"
      ],
      "metadata": {
        "colab": {
          "base_uri": "https://localhost:8080/"
        },
        "id": "-fPCpAkD7AlF",
        "outputId": "6d2a1f40-9313-4eca-d1be-60b476ace98a"
      },
      "execution_count": 20,
      "outputs": [
        {
          "output_type": "stream",
          "name": "stdout",
          "text": [
            "Enter the number:5544\n",
            "Even number\n"
          ]
        }
      ]
    }
  ]
}
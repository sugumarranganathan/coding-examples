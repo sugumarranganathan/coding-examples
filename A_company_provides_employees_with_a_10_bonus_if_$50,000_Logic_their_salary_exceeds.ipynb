{
  "nbformat": 4,
  "nbformat_minor": 0,
  "metadata": {
    "colab": {
      "provenance": []
    },
    "kernelspec": {
      "name": "python3",
      "display_name": "Python 3"
    },
    "language_info": {
      "name": "python"
    }
  },
  "cells": [
    {
      "cell_type": "code",
      "execution_count": 6,
      "metadata": {
        "colab": {
          "base_uri": "https://localhost:8080/"
        },
        "id": "byUwXWio17IE",
        "outputId": "44d58476-c8d6-41b2-aa28-66d59ced7a1f"
      },
      "outputs": [
        {
          "output_type": "stream",
          "name": "stdout",
          "text": [
            "Salary: $60000, Bonus: $6000.0\n",
            "Salary: $45000, Bonus: $0\n",
            "Salary: $50000, Bonus: $0\n"
          ]
        }
      ],
      "source": [
        "# 1. Read the employee's salary.\n",
        "# 2. If the salary is greater than $50,000, calculate a 10% bonus.\n",
        "# 3. Otherwise, set the bonus to zero.\n",
        "# 4. Return the calculated bonus amount.\n",
        "\n",
        "def calculate_bonus(salary):\n",
        "    if salary > 50000:\n",
        "        bonus = salary * 0.10\n",
        "    else:\n",
        "        bonus = 0\n",
        "    return bonus\n",
        "employee1_salary = 60000\n",
        "bonus1 = calculate_bonus(employee1_salary)\n",
        "print(f\"Salary: ${employee1_salary}, Bonus: ${bonus1}\")\n",
        "\n",
        "employee2_salary = 45000\n",
        "bonus2 = calculate_bonus(employee2_salary)\n",
        "print(f\"Salary: ${employee2_salary}, Bonus: ${bonus2}\")\n",
        "\n",
        "employee3_salary = 50000\n",
        "bonus3 = calculate_bonus(employee3_salary)\n",
        "print(f\"Salary: ${employee3_salary}, Bonus: ${bonus3}\")"
      ]
    }
  ]
}
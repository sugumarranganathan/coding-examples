{
  "nbformat": 4,
  "nbformat_minor": 0,
  "metadata": {
    "colab": {
      "provenance": []
    },
    "kernelspec": {
      "name": "python3",
      "display_name": "Python 3"
    },
    "language_info": {
      "name": "python"
    }
  },
  "cells": [
    {
      "cell_type": "code",
      "execution_count": 10,
      "metadata": {
        "colab": {
          "base_uri": "https://localhost:8080/"
        },
        "id": "XmUxFAX_KQUK",
        "outputId": "ced1e939-830a-43ab-be30-8b00f34bd4e0"
      },
      "outputs": [
        {
          "output_type": "stream",
          "name": "stdout",
          "text": [
            "2000: Leap year\n",
            "3900: Not a leap year\n",
            "2024: Leap year\n",
            "7023: Not a leap year\n",
            "2100: Not a leap year\n",
            "2400: Leap year\n"
          ]
        }
      ],
      "source": [
        "\n",
        "# 1. Read the input year.\n",
        "# 2. If the year is divisible by 400, it is a leap year.\n",
        "# 3. If the year is divisible by 100 but not by 400, it is not a leap year.\n",
        "# 4. If the year is divisible by 4 but not by 100, it is a leap year.\n",
        "# 5. Otherwise, it is not a leap year.\n",
        "\n",
        "def is_leap_year(year):\n",
        "    if year % 400 == 0:\n",
        "        return True\n",
        "    if year % 100 == 0:\n",
        "        return False\n",
        "    if year % 4 == 0:\n",
        "        return True\n",
        "    return False\n",
        "def check_leap_year():\n",
        "    year = int(input(\"Enter a year: \"))\n",
        "    if is_leap_year(year):\n",
        "        print(f\"{year} is a leap year.\")\n",
        "    else:\n",
        "        print(f\"{year} is not a leap year.\")\n",
        "    return year, is_leap_year(year)\n",
        "test_years = [2000, 3900, 2024, 7023, 2100, 2400]\n",
        "for year in test_years:\n",
        "    result = is_leap_year(year)\n",
        "    print(f\"{year}: {'Leap year' if result else 'Not a leap year'}\")"
      ]
    }
  ]
}
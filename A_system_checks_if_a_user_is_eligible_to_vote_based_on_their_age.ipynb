{
  "nbformat": 4,
  "nbformat_minor": 0,
  "metadata": {
    "colab": {
      "provenance": []
    },
    "kernelspec": {
      "name": "python3",
      "display_name": "Python 3"
    },
    "language_info": {
      "name": "python"
    }
  },
  "cells": [
    {
      "cell_type": "code",
      "source": [
        "# 1. Ask the user to enter their age.\n",
        "# 2. Check if the age is 18 or older.\n",
        "# 3. If yes, print \"Eligible to vote.\"\n",
        "# 4. Otherwise, print \"Not eligible to vote.\"\n",
        "\n",
        "\n",
        "age = int(input(\"Enter your age: \"))\n",
        "if age >= 18:\n",
        "    print(\"Eligible to vote.\")\n",
        "else:\n",
        "    print(\"Not eligible to vote.\")"
      ],
      "metadata": {
        "colab": {
          "base_uri": "https://localhost:8080/"
        },
        "id": "FeKMNoAyuYo-",
        "outputId": "0a046a52-b223-4d72-835d-ebeb63fd42de"
      },
      "execution_count": 9,
      "outputs": [
        {
          "output_type": "stream",
          "name": "stdout",
          "text": [
            "Enter your age: 4\n",
            "Not eligible to vote.\n"
          ]
        }
      ]
    }
  ]
}
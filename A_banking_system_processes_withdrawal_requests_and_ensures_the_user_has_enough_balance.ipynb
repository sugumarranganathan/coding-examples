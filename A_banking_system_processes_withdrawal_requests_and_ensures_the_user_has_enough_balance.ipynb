{
  "nbformat": 4,
  "nbformat_minor": 0,
  "metadata": {
    "colab": {
      "provenance": []
    },
    "kernelspec": {
      "name": "python3",
      "display_name": "Python 3"
    },
    "language_info": {
      "name": "python"
    }
  },
  "cells": [
    {
      "cell_type": "code",
      "execution_count": 4,
      "metadata": {
        "colab": {
          "base_uri": "https://localhost:8080/"
        },
        "id": "FcvW93tgINO1",
        "outputId": "19334ebd-0568-4d48-8263-11254f9db9b8"
      },
      "outputs": [
        {
          "output_type": "stream",
          "name": "stdout",
          "text": [
            "Enter your current account balance: ₹40000\n",
            "Enter withdrawal amount: ₹38000\n",
            "Withdrawal successful! Your updated balance is: ₹2000.00\n"
          ]
        }
      ],
      "source": [
        "# 1. Read the account balance and withdrawal amount.\n",
        "# 2. If the withdrawal amount is less than or equal to the balance, process the withdrawal.\n",
        "# 3. Subtract the withdrawal amount from the balance and return the updated balance.\n",
        "# 4. If the withdrawal amount exceeds the balance, print \"Insufficient funds.\"\n",
        "\n",
        "\n",
        "def process_withdrawal(balance, withdrawal_amount):\n",
        "    \"\"\"\n",
        "    Process a withdrawal from an account\n",
        "\n",
        "    Args:\n",
        "        balance (float): Current account balance\n",
        "        withdrawal_amount (float): Amount to withdraw\n",
        "\n",
        "    Returns:\n",
        "        float or str: Updated balance if successful, or \"Insufficient funds\" message\n",
        "    \"\"\"\n",
        "    if withdrawal_amount <= balance:\n",
        "        updated_balance = balance - withdrawal_amount\n",
        "        return updated_balance\n",
        "    else:\n",
        "        return \"Insufficient funds.\"\n",
        "def main():\n",
        "    try:\n",
        "\n",
        "        balance = float(input(\"Enter your current account balance: ₹\"))\n",
        "        withdrawal_amount = float(input(\"Enter withdrawal amount: ₹\"))\n",
        "        result = process_withdrawal(balance, withdrawal_amount)\n",
        "        if isinstance(result, str):  # \"Insufficient funds\" case\n",
        "            print(result)\n",
        "        else:\n",
        "            print(f\"Withdrawal successful! Your updated balance is: ₹{result:.2f}\")\n",
        "    except ValueError:\n",
        "        print(\"Please enter valid numbers for balance and withdrawal amount.\")\n",
        "if __name__ == \"__main__\":\n",
        "    main()"
      ]
    }
  ]
}